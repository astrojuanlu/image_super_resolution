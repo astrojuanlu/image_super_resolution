{
 "cells": [
  {
   "cell_type": "code",
   "execution_count": null,
   "metadata": {},
   "outputs": [],
   "source": [
    "import orchest\n",
    "from ISR.models import RDN"
   ]
  },
  {
   "cell_type": "code",
   "execution_count": null,
   "metadata": {},
   "outputs": [],
   "source": [
    "input_imgs = orchest.get_inputs()[0]\n",
    "\n",
    "# \"predict\" each image\n",
    "rdn = RDN(weights='noise-cancel')\n",
    "output_imgs = [(name, rdn.predict(img)) for name, img in input_imgs]\n",
    "\n",
    "orchest.output(output_imgs)"
   ]
  },
  {
   "cell_type": "code",
   "execution_count": null,
   "metadata": {},
   "outputs": [],
   "source": []
  }
 ],
 "metadata": {
  "kernelspec": {
   "display_name": "image-super-resolution",
   "language": "python",
   "name": "orchest-kernel-f1fef778-651f-4302-b70a-4133a078f4da"
  },
  "language_info": {
   "codemirror_mode": {
    "name": "ipython",
    "version": 3
   },
   "file_extension": ".py",
   "mimetype": "text/x-python",
   "name": "python",
   "nbconvert_exporter": "python",
   "pygments_lexer": "ipython3",
   "version": "3.7.6"
  }
 },
 "nbformat": 4,
 "nbformat_minor": 4
}
