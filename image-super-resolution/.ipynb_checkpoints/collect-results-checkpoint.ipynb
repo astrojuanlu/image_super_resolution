{
 "cells": [
  {
   "cell_type": "code",
   "execution_count": null,
   "metadata": {},
   "outputs": [],
   "source": [
    "from pathlib import Path\n",
    "\n",
    "\n",
    "import orchest\n",
    "from PIL import Image\n",
    "%pylab inline\n",
    "import matplotlib.pyplot as plt\n",
    "import matplotlib.image as mpimg\n",
    "from matplotlib.pyplot import figure, imshow, axis\n",
    "from matplotlib.image import imread"
   ]
  },
  {
   "cell_type": "code",
   "execution_count": null,
   "metadata": {},
   "outputs": [],
   "source": [
    "def horizontal_imgs_figure(imgs):\n",
    "    fig = figure(figsize=(30, 25))\n",
    "    n = len(imgs)\n",
    "    for i in range(n):\n",
    "        a=fig.add_subplot(1, n, i+1)\n",
    "        imshow(imgs[i],cmap='Greys_r')\n",
    "        axis('off')"
   ]
  },
  {
   "cell_type": "code",
   "execution_count": null,
   "metadata": {},
   "outputs": [],
   "source": [
    "input_data = orchest.get_inputs()\n",
    "original, small, large, noise_cancel, gans = input_data\n",
    "\n",
    "\n",
    "# create a results directory for each model\n",
    "models = [\"psnr-small\", \"psnr-large\", \"psnr-noise_cancel\", \"gans\"]\n",
    "models_output_dirs = [Path(f\"/data/isr_output_images/{model}\") for model in models]\n",
    "for model_dir in models_output_dirs:\n",
    "    model_dir.mkdir(parents=True, exist_ok=True)\n",
    "\n",
    "# go through the list of output imgs\n",
    "# the name needs to be read only once, hence the different \"_\"\n",
    "for (name, original), (_, small), (_, large), (_, noise_cancel), (_, gans) in zip(*input_data):\n",
    "    \n",
    "    # save each image to the right directory\n",
    "    models_results = [small, large, noise_cancel, gans]\n",
    "    for model_dir, model_result in zip(models_output_dirs, models_results):\n",
    "        Image.fromarray(model_result).save(model_dir / name)\n",
    "        \n",
    "    horizontal_imgs_figure([original, small, large, noise_cancel, gans])\n",
    "\n",
    "\n"
   ]
  },
  {
   "cell_type": "code",
   "execution_count": null,
   "metadata": {},
   "outputs": [],
   "source": []
  }
 ],
 "metadata": {
  "kernelspec": {
   "display_name": "Python3",
   "language": "python",
   "name": "orchest-kernel-25b88b34-426e-478b-953a-b47a00b2cd44"
  },
  "language_info": {
   "codemirror_mode": {
    "name": "ipython",
    "version": 3
   },
   "file_extension": ".py",
   "mimetype": "text/x-python",
   "name": "python",
   "nbconvert_exporter": "python",
   "pygments_lexer": "ipython3",
   "version": "3.7.6"
  }
 },
 "nbformat": 4,
 "nbformat_minor": 4
}
